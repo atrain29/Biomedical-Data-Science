{
 "cells": [
  {
   "cell_type": "markdown",
   "metadata": {},
   "source": [
    "# Import Dataset"
   ]
  },
  {
   "cell_type": "code",
   "execution_count": 1,
   "metadata": {},
   "outputs": [],
   "source": [
    "from urllib.request import urlretrieve"
   ]
  },
  {
   "cell_type": "code",
   "execution_count": 2,
   "metadata": {},
   "outputs": [],
   "source": [
    "import pandas as pd "
   ]
  },
  {
   "cell_type": "code",
   "execution_count": 3,
   "metadata": {},
   "outputs": [],
   "source": [
    "url = 'http://archive.ics.uci.edu/ml/machine-learning-databases/postoperative-patient-data/post-operative.data'"
   ]
  },
  {
   "cell_type": "code",
   "execution_count": 4,
   "metadata": {},
   "outputs": [
    {
     "data": {
      "text/plain": [
       "('post-operative.data', <http.client.HTTPMessage at 0x112c5b630>)"
      ]
     },
     "execution_count": 4,
     "metadata": {},
     "output_type": "execute_result"
    }
   ],
   "source": [
    "urlretrieve(url, 'post-operative.data')"
   ]
  },
  {
   "cell_type": "code",
   "execution_count": 5,
   "metadata": {},
   "outputs": [],
   "source": [
    "header = ['L-C','L-S','L-O','L-B','S-STBL','C-STBL','B-STBL','COMFORT','ADM-DECS']\n",
    "df = c = pd.read_csv('post-operative.data',names = header,comment = '#')"
   ]
  },
  {
   "cell_type": "code",
   "execution_count": 6,
   "metadata": {},
   "outputs": [
    {
     "name": "stdout",
     "output_type": "stream",
     "text": [
      "    L-C   L-S        L-O   L-B  S-STBL    C-STBL      B-STBL COMFORT ADM-DECS\n",
      "0   mid   low  excellent   mid  stable    stable      stable      15        A\n",
      "1   mid  high  excellent  high  stable    stable      stable      10        S\n",
      "2  high   low  excellent  high  stable    stable  mod-stable      10        A\n",
      "3   mid   low       good  high  stable  unstable  mod-stable      15       A \n",
      "4   mid   mid  excellent  high  stable    stable      stable      10        A\n"
     ]
    }
   ],
   "source": [
    "print(df.head())"
   ]
  },
  {
   "cell_type": "markdown",
   "metadata": {},
   "source": [
    "# Preprocessing"
   ]
  },
  {
   "cell_type": "code",
   "execution_count": 7,
   "metadata": {},
   "outputs": [],
   "source": [
    "import numpy as np"
   ]
  },
  {
   "cell_type": "code",
   "execution_count": 8,
   "metadata": {},
   "outputs": [],
   "source": [
    "df = df.replace('?', np.nan)"
   ]
  },
  {
   "cell_type": "markdown",
   "metadata": {},
   "source": [
    "Missing data originally appears as ? in the table. In order to continue with preprocessing, those question marks must be turned into 'NaN' using np.nan."
   ]
  },
  {
   "cell_type": "code",
   "execution_count": 9,
   "metadata": {},
   "outputs": [],
   "source": [
    "df = df.dropna(thresh=9)"
   ]
  },
  {
   "cell_type": "markdown",
   "metadata": {},
   "source": [
    "Delete all data that has missing values. I decided to delete this data because there were only 4 rows with missing data, so deleting did not remove very much of the data. If there were many more rows with missing data, I would have instead imputed."
   ]
  },
  {
   "cell_type": "code",
   "execution_count": 10,
   "metadata": {},
   "outputs": [
    {
     "data": {
      "text/html": [
       "<div>\n",
       "<style scoped>\n",
       "    .dataframe tbody tr th:only-of-type {\n",
       "        vertical-align: middle;\n",
       "    }\n",
       "\n",
       "    .dataframe tbody tr th {\n",
       "        vertical-align: top;\n",
       "    }\n",
       "\n",
       "    .dataframe thead th {\n",
       "        text-align: right;\n",
       "    }\n",
       "</style>\n",
       "<table border=\"1\" class=\"dataframe\">\n",
       "  <thead>\n",
       "    <tr style=\"text-align: right;\">\n",
       "      <th></th>\n",
       "      <th>L-C</th>\n",
       "      <th>L-S</th>\n",
       "      <th>L-O</th>\n",
       "      <th>L-B</th>\n",
       "      <th>S-STBL</th>\n",
       "      <th>C-STBL</th>\n",
       "      <th>B-STBL</th>\n",
       "      <th>COMFORT</th>\n",
       "      <th>ADM-DECS</th>\n",
       "    </tr>\n",
       "  </thead>\n",
       "  <tbody>\n",
       "    <tr>\n",
       "      <th>0</th>\n",
       "      <td>mid</td>\n",
       "      <td>low</td>\n",
       "      <td>excellent</td>\n",
       "      <td>mid</td>\n",
       "      <td>stable</td>\n",
       "      <td>stable</td>\n",
       "      <td>stable</td>\n",
       "      <td>15</td>\n",
       "      <td>A</td>\n",
       "    </tr>\n",
       "    <tr>\n",
       "      <th>1</th>\n",
       "      <td>mid</td>\n",
       "      <td>high</td>\n",
       "      <td>excellent</td>\n",
       "      <td>high</td>\n",
       "      <td>stable</td>\n",
       "      <td>stable</td>\n",
       "      <td>stable</td>\n",
       "      <td>10</td>\n",
       "      <td>S</td>\n",
       "    </tr>\n",
       "    <tr>\n",
       "      <th>2</th>\n",
       "      <td>high</td>\n",
       "      <td>low</td>\n",
       "      <td>excellent</td>\n",
       "      <td>high</td>\n",
       "      <td>stable</td>\n",
       "      <td>stable</td>\n",
       "      <td>mod-stable</td>\n",
       "      <td>10</td>\n",
       "      <td>A</td>\n",
       "    </tr>\n",
       "    <tr>\n",
       "      <th>3</th>\n",
       "      <td>mid</td>\n",
       "      <td>low</td>\n",
       "      <td>good</td>\n",
       "      <td>high</td>\n",
       "      <td>stable</td>\n",
       "      <td>unstable</td>\n",
       "      <td>mod-stable</td>\n",
       "      <td>15</td>\n",
       "      <td>A</td>\n",
       "    </tr>\n",
       "    <tr>\n",
       "      <th>4</th>\n",
       "      <td>mid</td>\n",
       "      <td>mid</td>\n",
       "      <td>excellent</td>\n",
       "      <td>high</td>\n",
       "      <td>stable</td>\n",
       "      <td>stable</td>\n",
       "      <td>stable</td>\n",
       "      <td>10</td>\n",
       "      <td>A</td>\n",
       "    </tr>\n",
       "    <tr>\n",
       "      <th>5</th>\n",
       "      <td>high</td>\n",
       "      <td>low</td>\n",
       "      <td>good</td>\n",
       "      <td>mid</td>\n",
       "      <td>stable</td>\n",
       "      <td>stable</td>\n",
       "      <td>unstable</td>\n",
       "      <td>15</td>\n",
       "      <td>S</td>\n",
       "    </tr>\n",
       "    <tr>\n",
       "      <th>6</th>\n",
       "      <td>mid</td>\n",
       "      <td>low</td>\n",
       "      <td>excellent</td>\n",
       "      <td>high</td>\n",
       "      <td>stable</td>\n",
       "      <td>stable</td>\n",
       "      <td>mod-stable</td>\n",
       "      <td>05</td>\n",
       "      <td>S</td>\n",
       "    </tr>\n",
       "    <tr>\n",
       "      <th>7</th>\n",
       "      <td>high</td>\n",
       "      <td>mid</td>\n",
       "      <td>excellent</td>\n",
       "      <td>mid</td>\n",
       "      <td>unstable</td>\n",
       "      <td>unstable</td>\n",
       "      <td>stable</td>\n",
       "      <td>10</td>\n",
       "      <td>S</td>\n",
       "    </tr>\n",
       "    <tr>\n",
       "      <th>8</th>\n",
       "      <td>mid</td>\n",
       "      <td>high</td>\n",
       "      <td>good</td>\n",
       "      <td>mid</td>\n",
       "      <td>stable</td>\n",
       "      <td>stable</td>\n",
       "      <td>stable</td>\n",
       "      <td>10</td>\n",
       "      <td>S</td>\n",
       "    </tr>\n",
       "    <tr>\n",
       "      <th>9</th>\n",
       "      <td>mid</td>\n",
       "      <td>low</td>\n",
       "      <td>excellent</td>\n",
       "      <td>mid</td>\n",
       "      <td>unstable</td>\n",
       "      <td>stable</td>\n",
       "      <td>mod-stable</td>\n",
       "      <td>10</td>\n",
       "      <td>S</td>\n",
       "    </tr>\n",
       "    <tr>\n",
       "      <th>10</th>\n",
       "      <td>mid</td>\n",
       "      <td>mid</td>\n",
       "      <td>good</td>\n",
       "      <td>mid</td>\n",
       "      <td>stable</td>\n",
       "      <td>stable</td>\n",
       "      <td>stable</td>\n",
       "      <td>15</td>\n",
       "      <td>A</td>\n",
       "    </tr>\n",
       "    <tr>\n",
       "      <th>11</th>\n",
       "      <td>mid</td>\n",
       "      <td>low</td>\n",
       "      <td>good</td>\n",
       "      <td>high</td>\n",
       "      <td>stable</td>\n",
       "      <td>stable</td>\n",
       "      <td>mod-stable</td>\n",
       "      <td>10</td>\n",
       "      <td>A</td>\n",
       "    </tr>\n",
       "    <tr>\n",
       "      <th>12</th>\n",
       "      <td>high</td>\n",
       "      <td>high</td>\n",
       "      <td>excellent</td>\n",
       "      <td>high</td>\n",
       "      <td>unstable</td>\n",
       "      <td>stable</td>\n",
       "      <td>unstable</td>\n",
       "      <td>15</td>\n",
       "      <td>A</td>\n",
       "    </tr>\n",
       "    <tr>\n",
       "      <th>13</th>\n",
       "      <td>mid</td>\n",
       "      <td>high</td>\n",
       "      <td>good</td>\n",
       "      <td>mid</td>\n",
       "      <td>unstable</td>\n",
       "      <td>stable</td>\n",
       "      <td>mod-stable</td>\n",
       "      <td>10</td>\n",
       "      <td>A</td>\n",
       "    </tr>\n",
       "    <tr>\n",
       "      <th>14</th>\n",
       "      <td>mid</td>\n",
       "      <td>low</td>\n",
       "      <td>good</td>\n",
       "      <td>high</td>\n",
       "      <td>unstable</td>\n",
       "      <td>unstable</td>\n",
       "      <td>stable</td>\n",
       "      <td>15</td>\n",
       "      <td>S</td>\n",
       "    </tr>\n",
       "    <tr>\n",
       "      <th>15</th>\n",
       "      <td>high</td>\n",
       "      <td>high</td>\n",
       "      <td>excellent</td>\n",
       "      <td>high</td>\n",
       "      <td>unstable</td>\n",
       "      <td>stable</td>\n",
       "      <td>unstable</td>\n",
       "      <td>10</td>\n",
       "      <td>A</td>\n",
       "    </tr>\n",
       "    <tr>\n",
       "      <th>16</th>\n",
       "      <td>low</td>\n",
       "      <td>high</td>\n",
       "      <td>good</td>\n",
       "      <td>high</td>\n",
       "      <td>unstable</td>\n",
       "      <td>stable</td>\n",
       "      <td>mod-stable</td>\n",
       "      <td>15</td>\n",
       "      <td>A</td>\n",
       "    </tr>\n",
       "    <tr>\n",
       "      <th>17</th>\n",
       "      <td>mid</td>\n",
       "      <td>low</td>\n",
       "      <td>good</td>\n",
       "      <td>high</td>\n",
       "      <td>unstable</td>\n",
       "      <td>stable</td>\n",
       "      <td>stable</td>\n",
       "      <td>10</td>\n",
       "      <td>A</td>\n",
       "    </tr>\n",
       "    <tr>\n",
       "      <th>18</th>\n",
       "      <td>mid</td>\n",
       "      <td>high</td>\n",
       "      <td>good</td>\n",
       "      <td>mid</td>\n",
       "      <td>unstable</td>\n",
       "      <td>stable</td>\n",
       "      <td>unstable</td>\n",
       "      <td>15</td>\n",
       "      <td>A</td>\n",
       "    </tr>\n",
       "    <tr>\n",
       "      <th>19</th>\n",
       "      <td>mid</td>\n",
       "      <td>mid</td>\n",
       "      <td>good</td>\n",
       "      <td>mid</td>\n",
       "      <td>stable</td>\n",
       "      <td>stable</td>\n",
       "      <td>stable</td>\n",
       "      <td>10</td>\n",
       "      <td>A</td>\n",
       "    </tr>\n",
       "    <tr>\n",
       "      <th>20</th>\n",
       "      <td>low</td>\n",
       "      <td>high</td>\n",
       "      <td>good</td>\n",
       "      <td>mid</td>\n",
       "      <td>unstable</td>\n",
       "      <td>stable</td>\n",
       "      <td>stable</td>\n",
       "      <td>15</td>\n",
       "      <td>A</td>\n",
       "    </tr>\n",
       "    <tr>\n",
       "      <th>21</th>\n",
       "      <td>low</td>\n",
       "      <td>mid</td>\n",
       "      <td>excellent</td>\n",
       "      <td>high</td>\n",
       "      <td>unstable</td>\n",
       "      <td>stable</td>\n",
       "      <td>unstable</td>\n",
       "      <td>10</td>\n",
       "      <td>S</td>\n",
       "    </tr>\n",
       "    <tr>\n",
       "      <th>22</th>\n",
       "      <td>mid</td>\n",
       "      <td>mid</td>\n",
       "      <td>good</td>\n",
       "      <td>mid</td>\n",
       "      <td>unstable</td>\n",
       "      <td>stable</td>\n",
       "      <td>unstable</td>\n",
       "      <td>15</td>\n",
       "      <td>A</td>\n",
       "    </tr>\n",
       "    <tr>\n",
       "      <th>23</th>\n",
       "      <td>mid</td>\n",
       "      <td>mid</td>\n",
       "      <td>good</td>\n",
       "      <td>mid</td>\n",
       "      <td>unstable</td>\n",
       "      <td>stable</td>\n",
       "      <td>stable</td>\n",
       "      <td>10</td>\n",
       "      <td>A</td>\n",
       "    </tr>\n",
       "    <tr>\n",
       "      <th>24</th>\n",
       "      <td>high</td>\n",
       "      <td>high</td>\n",
       "      <td>good</td>\n",
       "      <td>mid</td>\n",
       "      <td>stable</td>\n",
       "      <td>stable</td>\n",
       "      <td>mod-stable</td>\n",
       "      <td>10</td>\n",
       "      <td>A</td>\n",
       "    </tr>\n",
       "    <tr>\n",
       "      <th>25</th>\n",
       "      <td>low</td>\n",
       "      <td>mid</td>\n",
       "      <td>good</td>\n",
       "      <td>mid</td>\n",
       "      <td>unstable</td>\n",
       "      <td>stable</td>\n",
       "      <td>stable</td>\n",
       "      <td>10</td>\n",
       "      <td>A</td>\n",
       "    </tr>\n",
       "    <tr>\n",
       "      <th>26</th>\n",
       "      <td>high</td>\n",
       "      <td>mid</td>\n",
       "      <td>good</td>\n",
       "      <td>low</td>\n",
       "      <td>stable</td>\n",
       "      <td>stable</td>\n",
       "      <td>mod-stable</td>\n",
       "      <td>10</td>\n",
       "      <td>A</td>\n",
       "    </tr>\n",
       "    <tr>\n",
       "      <th>27</th>\n",
       "      <td>low</td>\n",
       "      <td>mid</td>\n",
       "      <td>excellent</td>\n",
       "      <td>high</td>\n",
       "      <td>stable</td>\n",
       "      <td>stable</td>\n",
       "      <td>mod-stable</td>\n",
       "      <td>10</td>\n",
       "      <td>A</td>\n",
       "    </tr>\n",
       "    <tr>\n",
       "      <th>28</th>\n",
       "      <td>mid</td>\n",
       "      <td>mid</td>\n",
       "      <td>excellent</td>\n",
       "      <td>mid</td>\n",
       "      <td>stable</td>\n",
       "      <td>stable</td>\n",
       "      <td>unstable</td>\n",
       "      <td>15</td>\n",
       "      <td>A</td>\n",
       "    </tr>\n",
       "    <tr>\n",
       "      <th>29</th>\n",
       "      <td>mid</td>\n",
       "      <td>mid</td>\n",
       "      <td>good</td>\n",
       "      <td>mid</td>\n",
       "      <td>unstable</td>\n",
       "      <td>stable</td>\n",
       "      <td>unstable</td>\n",
       "      <td>10</td>\n",
       "      <td>S</td>\n",
       "    </tr>\n",
       "    <tr>\n",
       "      <th>...</th>\n",
       "      <td>...</td>\n",
       "      <td>...</td>\n",
       "      <td>...</td>\n",
       "      <td>...</td>\n",
       "      <td>...</td>\n",
       "      <td>...</td>\n",
       "      <td>...</td>\n",
       "      <td>...</td>\n",
       "      <td>...</td>\n",
       "    </tr>\n",
       "    <tr>\n",
       "      <th>59</th>\n",
       "      <td>mid</td>\n",
       "      <td>high</td>\n",
       "      <td>good</td>\n",
       "      <td>mid</td>\n",
       "      <td>stable</td>\n",
       "      <td>stable</td>\n",
       "      <td>mod-stable</td>\n",
       "      <td>10</td>\n",
       "      <td>A</td>\n",
       "    </tr>\n",
       "    <tr>\n",
       "      <th>60</th>\n",
       "      <td>mid</td>\n",
       "      <td>high</td>\n",
       "      <td>good</td>\n",
       "      <td>mid</td>\n",
       "      <td>unstable</td>\n",
       "      <td>stable</td>\n",
       "      <td>unstable</td>\n",
       "      <td>10</td>\n",
       "      <td>A</td>\n",
       "    </tr>\n",
       "    <tr>\n",
       "      <th>61</th>\n",
       "      <td>mid</td>\n",
       "      <td>low</td>\n",
       "      <td>excellent</td>\n",
       "      <td>high</td>\n",
       "      <td>stable</td>\n",
       "      <td>stable</td>\n",
       "      <td>stable</td>\n",
       "      <td>10</td>\n",
       "      <td>A</td>\n",
       "    </tr>\n",
       "    <tr>\n",
       "      <th>62</th>\n",
       "      <td>mid</td>\n",
       "      <td>mid</td>\n",
       "      <td>good</td>\n",
       "      <td>mid</td>\n",
       "      <td>stable</td>\n",
       "      <td>stable</td>\n",
       "      <td>unstable</td>\n",
       "      <td>10</td>\n",
       "      <td>A</td>\n",
       "    </tr>\n",
       "    <tr>\n",
       "      <th>63</th>\n",
       "      <td>mid</td>\n",
       "      <td>low</td>\n",
       "      <td>excellent</td>\n",
       "      <td>mid</td>\n",
       "      <td>stable</td>\n",
       "      <td>stable</td>\n",
       "      <td>unstable</td>\n",
       "      <td>10</td>\n",
       "      <td>S</td>\n",
       "    </tr>\n",
       "    <tr>\n",
       "      <th>64</th>\n",
       "      <td>high</td>\n",
       "      <td>mid</td>\n",
       "      <td>excellent</td>\n",
       "      <td>mid</td>\n",
       "      <td>unstable</td>\n",
       "      <td>unstable</td>\n",
       "      <td>unstable</td>\n",
       "      <td>10</td>\n",
       "      <td>A</td>\n",
       "    </tr>\n",
       "    <tr>\n",
       "      <th>65</th>\n",
       "      <td>mid</td>\n",
       "      <td>mid</td>\n",
       "      <td>good</td>\n",
       "      <td>high</td>\n",
       "      <td>stable</td>\n",
       "      <td>stable</td>\n",
       "      <td>stable</td>\n",
       "      <td>10</td>\n",
       "      <td>S</td>\n",
       "    </tr>\n",
       "    <tr>\n",
       "      <th>66</th>\n",
       "      <td>mid</td>\n",
       "      <td>low</td>\n",
       "      <td>excellent</td>\n",
       "      <td>mid</td>\n",
       "      <td>unstable</td>\n",
       "      <td>stable</td>\n",
       "      <td>stable</td>\n",
       "      <td>10</td>\n",
       "      <td>A</td>\n",
       "    </tr>\n",
       "    <tr>\n",
       "      <th>67</th>\n",
       "      <td>mid</td>\n",
       "      <td>mid</td>\n",
       "      <td>excellent</td>\n",
       "      <td>mid</td>\n",
       "      <td>unstable</td>\n",
       "      <td>stable</td>\n",
       "      <td>stable</td>\n",
       "      <td>10</td>\n",
       "      <td>A</td>\n",
       "    </tr>\n",
       "    <tr>\n",
       "      <th>68</th>\n",
       "      <td>mid</td>\n",
       "      <td>mid</td>\n",
       "      <td>excellent</td>\n",
       "      <td>high</td>\n",
       "      <td>stable</td>\n",
       "      <td>stable</td>\n",
       "      <td>stable</td>\n",
       "      <td>10</td>\n",
       "      <td>A</td>\n",
       "    </tr>\n",
       "    <tr>\n",
       "      <th>69</th>\n",
       "      <td>mid</td>\n",
       "      <td>mid</td>\n",
       "      <td>excellent</td>\n",
       "      <td>low</td>\n",
       "      <td>stable</td>\n",
       "      <td>stable</td>\n",
       "      <td>stable</td>\n",
       "      <td>10</td>\n",
       "      <td>A</td>\n",
       "    </tr>\n",
       "    <tr>\n",
       "      <th>71</th>\n",
       "      <td>low</td>\n",
       "      <td>low</td>\n",
       "      <td>excellent</td>\n",
       "      <td>mid</td>\n",
       "      <td>stable</td>\n",
       "      <td>stable</td>\n",
       "      <td>stable</td>\n",
       "      <td>10</td>\n",
       "      <td>A</td>\n",
       "    </tr>\n",
       "    <tr>\n",
       "      <th>72</th>\n",
       "      <td>mid</td>\n",
       "      <td>mid</td>\n",
       "      <td>excellent</td>\n",
       "      <td>mid</td>\n",
       "      <td>stable</td>\n",
       "      <td>stable</td>\n",
       "      <td>mod-stable</td>\n",
       "      <td>10</td>\n",
       "      <td>S</td>\n",
       "    </tr>\n",
       "    <tr>\n",
       "      <th>73</th>\n",
       "      <td>mid</td>\n",
       "      <td>mid</td>\n",
       "      <td>excellent</td>\n",
       "      <td>high</td>\n",
       "      <td>stable</td>\n",
       "      <td>stable</td>\n",
       "      <td>stable</td>\n",
       "      <td>10</td>\n",
       "      <td>A</td>\n",
       "    </tr>\n",
       "    <tr>\n",
       "      <th>74</th>\n",
       "      <td>mid</td>\n",
       "      <td>low</td>\n",
       "      <td>excellent</td>\n",
       "      <td>high</td>\n",
       "      <td>stable</td>\n",
       "      <td>stable</td>\n",
       "      <td>mod-stable</td>\n",
       "      <td>10</td>\n",
       "      <td>A</td>\n",
       "    </tr>\n",
       "    <tr>\n",
       "      <th>75</th>\n",
       "      <td>low</td>\n",
       "      <td>mid</td>\n",
       "      <td>good</td>\n",
       "      <td>mid</td>\n",
       "      <td>stable</td>\n",
       "      <td>stable</td>\n",
       "      <td>unstable</td>\n",
       "      <td>10</td>\n",
       "      <td>A</td>\n",
       "    </tr>\n",
       "    <tr>\n",
       "      <th>76</th>\n",
       "      <td>mid</td>\n",
       "      <td>mid</td>\n",
       "      <td>excellent</td>\n",
       "      <td>mid</td>\n",
       "      <td>stable</td>\n",
       "      <td>stable</td>\n",
       "      <td>mod-stable</td>\n",
       "      <td>10</td>\n",
       "      <td>A</td>\n",
       "    </tr>\n",
       "    <tr>\n",
       "      <th>77</th>\n",
       "      <td>mid</td>\n",
       "      <td>mid</td>\n",
       "      <td>excellent</td>\n",
       "      <td>mid</td>\n",
       "      <td>stable</td>\n",
       "      <td>stable</td>\n",
       "      <td>unstable</td>\n",
       "      <td>10</td>\n",
       "      <td>A</td>\n",
       "    </tr>\n",
       "    <tr>\n",
       "      <th>78</th>\n",
       "      <td>mid</td>\n",
       "      <td>mid</td>\n",
       "      <td>excellent</td>\n",
       "      <td>mid</td>\n",
       "      <td>unstable</td>\n",
       "      <td>unstable</td>\n",
       "      <td>stable</td>\n",
       "      <td>10</td>\n",
       "      <td>S</td>\n",
       "    </tr>\n",
       "    <tr>\n",
       "      <th>79</th>\n",
       "      <td>mid</td>\n",
       "      <td>mid</td>\n",
       "      <td>good</td>\n",
       "      <td>high</td>\n",
       "      <td>stable</td>\n",
       "      <td>stable</td>\n",
       "      <td>stable</td>\n",
       "      <td>10</td>\n",
       "      <td>A</td>\n",
       "    </tr>\n",
       "    <tr>\n",
       "      <th>80</th>\n",
       "      <td>mid</td>\n",
       "      <td>mid</td>\n",
       "      <td>excellent</td>\n",
       "      <td>mid</td>\n",
       "      <td>stable</td>\n",
       "      <td>stable</td>\n",
       "      <td>stable</td>\n",
       "      <td>15</td>\n",
       "      <td>A</td>\n",
       "    </tr>\n",
       "    <tr>\n",
       "      <th>81</th>\n",
       "      <td>mid</td>\n",
       "      <td>mid</td>\n",
       "      <td>excellent</td>\n",
       "      <td>mid</td>\n",
       "      <td>stable</td>\n",
       "      <td>stable</td>\n",
       "      <td>stable</td>\n",
       "      <td>10</td>\n",
       "      <td>S</td>\n",
       "    </tr>\n",
       "    <tr>\n",
       "      <th>82</th>\n",
       "      <td>mid</td>\n",
       "      <td>low</td>\n",
       "      <td>good</td>\n",
       "      <td>mid</td>\n",
       "      <td>stable</td>\n",
       "      <td>stable</td>\n",
       "      <td>unstable</td>\n",
       "      <td>10</td>\n",
       "      <td>I</td>\n",
       "    </tr>\n",
       "    <tr>\n",
       "      <th>83</th>\n",
       "      <td>high</td>\n",
       "      <td>mid</td>\n",
       "      <td>excellent</td>\n",
       "      <td>mid</td>\n",
       "      <td>unstable</td>\n",
       "      <td>stable</td>\n",
       "      <td>unstable</td>\n",
       "      <td>05</td>\n",
       "      <td>A</td>\n",
       "    </tr>\n",
       "    <tr>\n",
       "      <th>84</th>\n",
       "      <td>mid</td>\n",
       "      <td>mid</td>\n",
       "      <td>excellent</td>\n",
       "      <td>mid</td>\n",
       "      <td>stable</td>\n",
       "      <td>stable</td>\n",
       "      <td>unstable</td>\n",
       "      <td>10</td>\n",
       "      <td>A</td>\n",
       "    </tr>\n",
       "    <tr>\n",
       "      <th>85</th>\n",
       "      <td>mid</td>\n",
       "      <td>mid</td>\n",
       "      <td>excellent</td>\n",
       "      <td>mid</td>\n",
       "      <td>unstable</td>\n",
       "      <td>stable</td>\n",
       "      <td>stable</td>\n",
       "      <td>10</td>\n",
       "      <td>A</td>\n",
       "    </tr>\n",
       "    <tr>\n",
       "      <th>86</th>\n",
       "      <td>mid</td>\n",
       "      <td>mid</td>\n",
       "      <td>excellent</td>\n",
       "      <td>mid</td>\n",
       "      <td>unstable</td>\n",
       "      <td>stable</td>\n",
       "      <td>stable</td>\n",
       "      <td>15</td>\n",
       "      <td>S</td>\n",
       "    </tr>\n",
       "    <tr>\n",
       "      <th>87</th>\n",
       "      <td>mid</td>\n",
       "      <td>mid</td>\n",
       "      <td>good</td>\n",
       "      <td>mid</td>\n",
       "      <td>unstable</td>\n",
       "      <td>stable</td>\n",
       "      <td>stable</td>\n",
       "      <td>15</td>\n",
       "      <td>A</td>\n",
       "    </tr>\n",
       "    <tr>\n",
       "      <th>88</th>\n",
       "      <td>mid</td>\n",
       "      <td>mid</td>\n",
       "      <td>excellent</td>\n",
       "      <td>mid</td>\n",
       "      <td>unstable</td>\n",
       "      <td>stable</td>\n",
       "      <td>stable</td>\n",
       "      <td>10</td>\n",
       "      <td>A</td>\n",
       "    </tr>\n",
       "    <tr>\n",
       "      <th>89</th>\n",
       "      <td>mid</td>\n",
       "      <td>mid</td>\n",
       "      <td>good</td>\n",
       "      <td>mid</td>\n",
       "      <td>unstable</td>\n",
       "      <td>stable</td>\n",
       "      <td>stable</td>\n",
       "      <td>15</td>\n",
       "      <td>S</td>\n",
       "    </tr>\n",
       "  </tbody>\n",
       "</table>\n",
       "<p>87 rows × 9 columns</p>\n",
       "</div>"
      ],
      "text/plain": [
       "     L-C   L-S        L-O   L-B    S-STBL    C-STBL      B-STBL COMFORT  \\\n",
       "0    mid   low  excellent   mid    stable    stable      stable      15   \n",
       "1    mid  high  excellent  high    stable    stable      stable      10   \n",
       "2   high   low  excellent  high    stable    stable  mod-stable      10   \n",
       "3    mid   low       good  high    stable  unstable  mod-stable      15   \n",
       "4    mid   mid  excellent  high    stable    stable      stable      10   \n",
       "5   high   low       good   mid    stable    stable    unstable      15   \n",
       "6    mid   low  excellent  high    stable    stable  mod-stable      05   \n",
       "7   high   mid  excellent   mid  unstable  unstable      stable      10   \n",
       "8    mid  high       good   mid    stable    stable      stable      10   \n",
       "9    mid   low  excellent   mid  unstable    stable  mod-stable      10   \n",
       "10   mid   mid       good   mid    stable    stable      stable      15   \n",
       "11   mid   low       good  high    stable    stable  mod-stable      10   \n",
       "12  high  high  excellent  high  unstable    stable    unstable      15   \n",
       "13   mid  high       good   mid  unstable    stable  mod-stable      10   \n",
       "14   mid   low       good  high  unstable  unstable      stable      15   \n",
       "15  high  high  excellent  high  unstable    stable    unstable      10   \n",
       "16   low  high       good  high  unstable    stable  mod-stable      15   \n",
       "17   mid   low       good  high  unstable    stable      stable      10   \n",
       "18   mid  high       good   mid  unstable    stable    unstable      15   \n",
       "19   mid   mid       good   mid    stable    stable      stable      10   \n",
       "20   low  high       good   mid  unstable    stable      stable      15   \n",
       "21   low   mid  excellent  high  unstable    stable    unstable      10   \n",
       "22   mid   mid       good   mid  unstable    stable    unstable      15   \n",
       "23   mid   mid       good   mid  unstable    stable      stable      10   \n",
       "24  high  high       good   mid    stable    stable  mod-stable      10   \n",
       "25   low   mid       good   mid  unstable    stable      stable      10   \n",
       "26  high   mid       good   low    stable    stable  mod-stable      10   \n",
       "27   low   mid  excellent  high    stable    stable  mod-stable      10   \n",
       "28   mid   mid  excellent   mid    stable    stable    unstable      15   \n",
       "29   mid   mid       good   mid  unstable    stable    unstable      10   \n",
       "..   ...   ...        ...   ...       ...       ...         ...     ...   \n",
       "59   mid  high       good   mid    stable    stable  mod-stable      10   \n",
       "60   mid  high       good   mid  unstable    stable    unstable      10   \n",
       "61   mid   low  excellent  high    stable    stable      stable      10   \n",
       "62   mid   mid       good   mid    stable    stable    unstable      10   \n",
       "63   mid   low  excellent   mid    stable    stable    unstable      10   \n",
       "64  high   mid  excellent   mid  unstable  unstable    unstable      10   \n",
       "65   mid   mid       good  high    stable    stable      stable      10   \n",
       "66   mid   low  excellent   mid  unstable    stable      stable      10   \n",
       "67   mid   mid  excellent   mid  unstable    stable      stable      10   \n",
       "68   mid   mid  excellent  high    stable    stable      stable      10   \n",
       "69   mid   mid  excellent   low    stable    stable      stable      10   \n",
       "71   low   low  excellent   mid    stable    stable      stable      10   \n",
       "72   mid   mid  excellent   mid    stable    stable  mod-stable      10   \n",
       "73   mid   mid  excellent  high    stable    stable      stable      10   \n",
       "74   mid   low  excellent  high    stable    stable  mod-stable      10   \n",
       "75   low   mid       good   mid    stable    stable    unstable      10   \n",
       "76   mid   mid  excellent   mid    stable    stable  mod-stable      10   \n",
       "77   mid   mid  excellent   mid    stable    stable    unstable      10   \n",
       "78   mid   mid  excellent   mid  unstable  unstable      stable      10   \n",
       "79   mid   mid       good  high    stable    stable      stable      10   \n",
       "80   mid   mid  excellent   mid    stable    stable      stable      15   \n",
       "81   mid   mid  excellent   mid    stable    stable      stable      10   \n",
       "82   mid   low       good   mid    stable    stable    unstable      10   \n",
       "83  high   mid  excellent   mid  unstable    stable    unstable      05   \n",
       "84   mid   mid  excellent   mid    stable    stable    unstable      10   \n",
       "85   mid   mid  excellent   mid  unstable    stable      stable      10   \n",
       "86   mid   mid  excellent   mid  unstable    stable      stable      15   \n",
       "87   mid   mid       good   mid  unstable    stable      stable      15   \n",
       "88   mid   mid  excellent   mid  unstable    stable      stable      10   \n",
       "89   mid   mid       good   mid  unstable    stable      stable      15   \n",
       "\n",
       "   ADM-DECS  \n",
       "0         A  \n",
       "1         S  \n",
       "2         A  \n",
       "3        A   \n",
       "4         A  \n",
       "5         S  \n",
       "6         S  \n",
       "7         S  \n",
       "8         S  \n",
       "9         S  \n",
       "10        A  \n",
       "11        A  \n",
       "12        A  \n",
       "13        A  \n",
       "14        S  \n",
       "15        A  \n",
       "16        A  \n",
       "17        A  \n",
       "18        A  \n",
       "19        A  \n",
       "20        A  \n",
       "21        S  \n",
       "22        A  \n",
       "23        A  \n",
       "24        A  \n",
       "25        A  \n",
       "26        A  \n",
       "27        A  \n",
       "28        A  \n",
       "29        S  \n",
       "..      ...  \n",
       "59        A  \n",
       "60        A  \n",
       "61        A  \n",
       "62        A  \n",
       "63        S  \n",
       "64        A  \n",
       "65        S  \n",
       "66        A  \n",
       "67        A  \n",
       "68        A  \n",
       "69        A  \n",
       "71        A  \n",
       "72        S  \n",
       "73        A  \n",
       "74        A  \n",
       "75        A  \n",
       "76        A  \n",
       "77        A  \n",
       "78        S  \n",
       "79        A  \n",
       "80        A  \n",
       "81        S  \n",
       "82        I  \n",
       "83        A  \n",
       "84        A  \n",
       "85        A  \n",
       "86        S  \n",
       "87        A  \n",
       "88        A  \n",
       "89        S  \n",
       "\n",
       "[87 rows x 9 columns]"
      ]
     },
     "execution_count": 10,
     "metadata": {},
     "output_type": "execute_result"
    }
   ],
   "source": [
    "df"
   ]
  },
  {
   "cell_type": "code",
   "execution_count": 11,
   "metadata": {},
   "outputs": [],
   "source": [
    "comf_mapping = {'05':5, '07':7, '10':10, '15':15}"
   ]
  },
  {
   "cell_type": "markdown",
   "metadata": {},
   "source": [
    "Python does not read the imported Comfort data as numerical, even though it is. Therefore, it must be converted into actual numerical data that Python can use for graphing."
   ]
  },
  {
   "cell_type": "code",
   "execution_count": 12,
   "metadata": {},
   "outputs": [],
   "source": [
    "df['COMFORT'] = df['COMFORT'].map(comf_mapping)"
   ]
  },
  {
   "cell_type": "markdown",
   "metadata": {},
   "source": [
    "Changing the Comfort column into the numerical data."
   ]
  },
  {
   "cell_type": "code",
   "execution_count": 13,
   "metadata": {},
   "outputs": [],
   "source": [
    "df = df.replace(\"A \",\"A\")"
   ]
  },
  {
   "cell_type": "markdown",
   "metadata": {},
   "source": [
    "One row has \"A \" in the ADM-DECS category. This must be replaced by \"A\" in order for all A values to belong to the same category in the plot below."
   ]
  },
  {
   "cell_type": "markdown",
   "metadata": {},
   "source": [
    "# Plotting"
   ]
  },
  {
   "cell_type": "code",
   "execution_count": 14,
   "metadata": {},
   "outputs": [],
   "source": [
    "import matplotlib.pyplot as plt\n",
    "import seaborn as sns"
   ]
  },
  {
   "cell_type": "code",
   "execution_count": 15,
   "metadata": {},
   "outputs": [
    {
     "data": {
      "text/plain": [
       "<matplotlib.axes._subplots.AxesSubplot at 0x1a161dbc50>"
      ]
     },
     "execution_count": 15,
     "metadata": {},
     "output_type": "execute_result"
    },
    {
     "data": {
      "image/png": "[encoded data removed]",
      "text/plain": [
       "<Figure size 432x288 with 1 Axes>"
      ]
     },
     "metadata": {},
     "output_type": "display_data"
    }
   ],
   "source": [
    "sns.swarmplot(x=df['L-C'], y=df['COMFORT'])"
   ]
  },
  {
   "cell_type": "markdown",
   "metadata": {},
   "source": [
    "The distribution of comfort is fairly similar for all 3 categories of internal temperature. The majority of patients in all internal temperature categories rated comfort as a 10, with some as a 15 and very few below 10. The \"mid\" group has the most data, while the \"high\" group has the most similar amount of people rating comfort at a 10 versus rating at a 15. Overall, not much difference is seen in comfort level ratings between internal temperature groups."
   ]
  },
  {
   "cell_type": "code",
   "execution_count": 16,
   "metadata": {},
   "outputs": [
    {
     "data": {
      "text/plain": [
       "<matplotlib.axes._subplots.AxesSubplot at 0x1a21533390>"
      ]
     },
     "execution_count": 16,
     "metadata": {},
     "output_type": "execute_result"
    },
    {
     "data": {
      "image/png": "[encoded data removed]",
      "text/plain": [
       "<Figure size 432x288 with 1 Axes>"
      ]
     },
     "metadata": {},
     "output_type": "display_data"
    }
   ],
   "source": [
    "sns.swarmplot(x=df['L-S'], y=df['COMFORT'])"
   ]
  },
  {
   "cell_type": "markdown",
   "metadata": {},
   "source": [
    "The distribution of comfort is very similar for all 3 categories of surface temperature. The majority of patients in all internal temperature categories rated comfort as a 10, with some as a 15 and very few below 10. The \"mid\" and \"low\" groups had similar amounts of data, while the \"high\" group had 0 patients rate their comfort level below a 10 at discharge. Overall, not much difference is seen in comfort level ratings between surface temperature groups."
   ]
  },
  {
   "cell_type": "code",
   "execution_count": 17,
   "metadata": {},
   "outputs": [
    {
     "data": {
      "text/plain": [
       "<matplotlib.axes._subplots.AxesSubplot at 0x1a21668cf8>"
      ]
     },
     "execution_count": 17,
     "metadata": {},
     "output_type": "execute_result"
    },
    {
     "data": {
      "image/png": "[encoded data removed]",
      "text/plain": [
       "<Figure size 432x288 with 1 Axes>"
      ]
     },
     "metadata": {},
     "output_type": "display_data"
    }
   ],
   "source": [
    "sns.swarmplot(x=df['L-O'], y=df['COMFORT'])"
   ]
  },
  {
   "cell_type": "markdown",
   "metadata": {},
   "source": [
    "The distribution of comfort is extremely similar for both categories of oxygen saturation. The majority of patients in both oxygen saturation categories rated comfort as a 10. The \"excellent\" category has less people rating comfort level at 15, with 2 lower comfort ratings than in the whole \"good\" category. Overall, not much difference is seen in comfort level ratings between \"excellent\" and \"good\" oxygen saturation groups. There were no patients included in this plot with \"fair\" or \"poor\" oxygen saturation levels."
   ]
  },
  {
   "cell_type": "code",
   "execution_count": 18,
   "metadata": {},
   "outputs": [
    {
     "data": {
      "text/plain": [
       "<matplotlib.axes._subplots.AxesSubplot at 0x1a216b2978>"
      ]
     },
     "execution_count": 18,
     "metadata": {},
     "output_type": "execute_result"
    },
    {
     "data": {
      "image/png": "[encoded data removed]",
      "text/plain": [
       "<Figure size 432x288 with 1 Axes>"
      ]
     },
     "metadata": {},
     "output_type": "display_data"
    }
   ],
   "source": [
    "sns.swarmplot(x=df['L-B'], y=df['COMFORT'])"
   ]
  },
  {
   "cell_type": "markdown",
   "metadata": {},
   "source": [
    "The distribution of comfort is very similar for \"mid\" and \"high\" categories of blood pressure. The \"low\" category only has 3 data points, all lying at the comfort rating of 10. The \"mid\" group has 1 more patient rating comfort below 10 than the \"high\" group, while the \"high\" group has fewer patients rating comfort at discharge at 15. The \"low\" category does not have enough data to draw a conclusive relationship between it and the other 2 categories."
   ]
  },
  {
   "cell_type": "code",
   "execution_count": 19,
   "metadata": {},
   "outputs": [
    {
     "data": {
      "text/plain": [
       "<matplotlib.axes._subplots.AxesSubplot at 0x1a217645f8>"
      ]
     },
     "execution_count": 19,
     "metadata": {},
     "output_type": "execute_result"
    },
    {
     "data": {
      "image/png": "[encoded data removed]",
      "text/plain": [
       "<Figure size 432x288 with 1 Axes>"
      ]
     },
     "metadata": {},
     "output_type": "display_data"
    }
   ],
   "source": [
    "sns.swarmplot(x=df['S-STBL'], y=df['COMFORT'])"
   ]
  },
  {
   "cell_type": "markdown",
   "metadata": {},
   "source": [
    "The distribution of comfort is extremely similar for both categories of surface temperature stability. The majority of patients in both surface temperature categories rated comfort as a 10, with some as a 15 and very few below 10. The \"stable\" group has 1 more comfort rating below 10 than the \"unstable\" group. However, the amount of patients rating comfort as 15 is similar for both the \"stable\" and \"unstable\" categories."
   ]
  },
  {
   "cell_type": "code",
   "execution_count": 20,
   "metadata": {},
   "outputs": [
    {
     "data": {
      "text/plain": [
       "<matplotlib.axes._subplots.AxesSubplot at 0x1a2180ceb8>"
      ]
     },
     "execution_count": 20,
     "metadata": {},
     "output_type": "execute_result"
    },
    {
     "data": {
      "image/png": "[encoded data removed]",
      "text/plain": [
       "<Figure size 432x288 with 1 Axes>"
      ]
     },
     "metadata": {},
     "output_type": "display_data"
    }
   ],
   "source": [
    "sns.swarmplot(x=df['C-STBL'], y=df['COMFORT'])"
   ]
  },
  {
   "cell_type": "markdown",
   "metadata": {},
   "source": [
    "There is not enough data in the \"unstable\" or \"mod-stable\" categories to draw comparisons between all categories of core temperature stability. The \"stable\" category contains a great majority of the data, while also having a similar amount of patients rating comfort at 10 and 15. In addition, the \"stable\" group has 3 comfort ratings below 10, while the \"unstable\" and \"mod-stable\" groups do not have any."
   ]
  },
  {
   "cell_type": "code",
   "execution_count": 21,
   "metadata": {},
   "outputs": [
    {
     "data": {
      "text/plain": [
       "<matplotlib.axes._subplots.AxesSubplot at 0x1a218b8780>"
      ]
     },
     "execution_count": 21,
     "metadata": {},
     "output_type": "execute_result"
    },
    {
     "data": {
      "image/png": "[encoded data removed]",
      "text/plain": [
       "<Figure size 432x288 with 1 Axes>"
      ]
     },
     "metadata": {},
     "output_type": "display_data"
    }
   ],
   "source": [
    "sns.swarmplot(x=df['B-STBL'], y=df['COMFORT'])"
   ]
  },
  {
   "cell_type": "markdown",
   "metadata": {},
   "source": [
    "The distribution of comfort is fairly similar for all 3 categories of blood pressure stability. The majority of patients in all stability categories rated comfort as a 10, with some as a 15 and very few below 10. Each category has 1 patient rating comfort below 10. The \"mod-stable\" group has less patients rating comfort at 15 than the other 2 groups. Overall, not much difference is seen in comfort level ratings between blood pressure stability groups."
   ]
  },
  {
   "cell_type": "code",
   "execution_count": 22,
   "metadata": {},
   "outputs": [
    {
     "data": {
      "text/plain": [
       "<matplotlib.axes._subplots.AxesSubplot at 0x1a2196ca58>"
      ]
     },
     "execution_count": 22,
     "metadata": {},
     "output_type": "execute_result"
    },
    {
     "data": {
      "image/png": "[encoded data removed]",
      "text/plain": [
       "<Figure size 432x288 with 1 Axes>"
      ]
     },
     "metadata": {},
     "output_type": "display_data"
    }
   ],
   "source": [
    "sns.swarmplot(x=df['ADM-DECS'], y=df['COMFORT'])"
   ]
  },
  {
   "cell_type": "markdown",
   "metadata": {},
   "source": [
    "The distribution of comfort is fairly similar for the \"A\" and \"S\" categories. There is only one patient included in the plot that lies in the \"I\" category, which means this was the only patient sent to the Intensive Care Unit. The majority of patients in the plotted categories rated comfort as a 10, with some as a 15 and very few below 10. The \"S\" category has less data in the comfort levels of 10 and 15 compared to category \"A\". However, \"S\" contains 1 more patient with a comfort level below 10."
   ]
  },
  {
   "cell_type": "markdown",
   "metadata": {},
   "source": [
    "# Github Submit"
   ]
  }
 ],
 "metadata": {
  "kernelspec": {
   "display_name": "Python 3",
   "language": "python",
   "name": "python3"
  },
  "language_info": {
   "codemirror_mode": {
    "name": "ipython",
    "version": 3
   },
   "file_extension": ".py",
   "mimetype": "text/x-python",
   "name": "python",
   "nbconvert_exporter": "python",
   "pygments_lexer": "ipython3",
   "version": "3.6.5"
  }
 },
 "nbformat": 4,
 "nbformat_minor": 2
}
