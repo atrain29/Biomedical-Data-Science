{
 "cells": [
  {
   "cell_type": "markdown",
   "metadata": {},
   "source": [
    "# Import Dataset"
   ]
  },
  {
   "cell_type": "code",
   "execution_count": null,
   "metadata": {},
   "outputs": [],
   "source": [
    "from urllib.request import urlretrieve"
   ]
  },
  {
   "cell_type": "code",
   "execution_count": null,
   "metadata": {},
   "outputs": [],
   "source": [
    "import pandas as pd "
   ]
  },
  {
   "cell_type": "code",
   "execution_count": null,
   "metadata": {},
   "outputs": [],
   "source": [
    "url = 'http://archive.ics.uci.edu/ml/machine-learning-databases/postoperative-patient-data/post-operative.data'"
   ]
  },
  {
   "cell_type": "code",
   "execution_count": null,
   "metadata": {},
   "outputs": [],
   "source": [
    "urlretrieve(url, 'post-operative.data')"
   ]
  },
  {
   "cell_type": "code",
   "execution_count": null,
   "metadata": {},
   "outputs": [],
   "source": [
    "header = ['L-C','L-S','L-O','L-B','S-STBL','C-STBL','B-STBL','COMFORT','ADM-DECS']\n",
    "df = c = pd.read_csv('post-operative.data',names = header,comment = '#')"
   ]
  },
  {
   "cell_type": "code",
   "execution_count": null,
   "metadata": {},
   "outputs": [],
   "source": [
    "print(df.head())"
   ]
  },
  {
   "cell_type": "markdown",
   "metadata": {},
   "source": [
    "# Preprocessing"
   ]
  },
  {
   "cell_type": "code",
   "execution_count": null,
   "metadata": {},
   "outputs": [],
   "source": [
    "import numpy as np"
   ]
  },
  {
   "cell_type": "code",
   "execution_count": null,
   "metadata": {},
   "outputs": [],
   "source": [
    "df = df.replace('?', np.nan)"
   ]
  },
  {
   "cell_type": "markdown",
   "metadata": {},
   "source": [
    "Missing data originally appears as ? in the table. In order to continue with preprocessing, those question marks must be turned into 'NaN' using np.nan."
   ]
  },
  {
   "cell_type": "code",
   "execution_count": null,
   "metadata": {},
   "outputs": [],
   "source": [
    "df = df.dropna(thresh=9)"
   ]
  },
  {
   "cell_type": "markdown",
   "metadata": {},
   "source": [
    "Delete all data that has missing values. I decided to delete this data because there were only 4 rows with missing data, so deleting did not remove very much of the data. If there were many more rows with missing data, I would have instead imputed."
   ]
  },
  {
   "cell_type": "code",
   "execution_count": null,
   "metadata": {},
   "outputs": [],
   "source": [
    "df"
   ]
  },
  {
   "cell_type": "code",
   "execution_count": null,
   "metadata": {},
   "outputs": [],
   "source": [
    "comf_mapping = {'05':5, '07':7, '10':10, '15':15}"
   ]
  },
  {
   "cell_type": "markdown",
   "metadata": {},
   "source": [
    "Python does not read the imported Comfort data as numerical, even though it is. Therefore, it must be converted into actual numerical data that Python can use for graphing."
   ]
  },
  {
   "cell_type": "code",
   "execution_count": null,
   "metadata": {},
   "outputs": [],
   "source": [
    "df['COMFORT'] = df['COMFORT'].map(comf_mapping)"
   ]
  },
  {
   "cell_type": "markdown",
   "metadata": {},
   "source": [
    "Changing the Comfort column into the numerical data."
   ]
  },
  {
   "cell_type": "code",
   "execution_count": null,
   "metadata": {},
   "outputs": [],
   "source": [
    "df = df.replace(\"A \",\"A\")"
   ]
  },
  {
   "cell_type": "markdown",
   "metadata": {},
   "source": [
    "One row has \"A \" in the ADM-DECS category. This must be replaced by \"A\" in order for all A values to belong to the same category in the plot below."
   ]
  },
  {
   "cell_type": "markdown",
   "metadata": {},
   "source": [
    "# Plotting"
   ]
  },
  {
   "cell_type": "code",
   "execution_count": null,
   "metadata": {},
   "outputs": [],
   "source": [
    "import matplotlib.pyplot as plt\n",
    "import seaborn as sns"
   ]
  },
  {
   "cell_type": "code",
   "execution_count": null,
   "metadata": {},
   "outputs": [],
   "source": [
    "sns.swarmplot(x=df['L-C'], y=df['COMFORT'])"
   ]
  },
  {
   "cell_type": "markdown",
   "metadata": {},
   "source": [
    "The distribution of comfort is fairly similar for all 3 categories of internal temperature. The majority of patients in all internal temperature categories rated comfort as a 10, with some as a 15 and very few below 10. The \"mid\" group has the most data, while the \"high\" group has the most similar amount of people rating comfort at a 10 versus rating at a 15. Overall, not much difference is seen in comfort level ratings between internal temperature groups."
   ]
  },
  {
   "cell_type": "code",
   "execution_count": null,
   "metadata": {},
   "outputs": [],
   "source": [
    "sns.swarmplot(x=df['L-S'], y=df['COMFORT'])"
   ]
  },
  {
   "cell_type": "markdown",
   "metadata": {},
   "source": [
    "The distribution of comfort is very similar for all 3 categories of surface temperature. The majority of patients in all internal temperature categories rated comfort as a 10, with some as a 15 and very few below 10. The \"mid\" and \"low\" groups had similar amounts of data, while the \"high\" group had 0 patients rate their comfort level below a 10 at discharge. Overall, not much difference is seen in comfort level ratings between surface temperature groups."
   ]
  },
  {
   "cell_type": "code",
   "execution_count": null,
   "metadata": {},
   "outputs": [],
   "source": [
    "sns.swarmplot(x=df['L-O'], y=df['COMFORT'])"
   ]
  },
  {
   "cell_type": "markdown",
   "metadata": {},
   "source": [
    "The distribution of comfort is extremely similar for both categories of oxygen saturation. The majority of patients in both oxygen saturation categories rated comfort as a 10. The \"excellent\" category has less people rating comfort level at 15, with 2 lower comfort ratings than in the whole \"good\" category. Overall, not much difference is seen in comfort level ratings between \"excellent\" and \"good\" oxygen saturation groups. There were no patients included in this plot with \"fair\" or \"poor\" oxygen saturation levels."
   ]
  },
  {
   "cell_type": "code",
   "execution_count": null,
   "metadata": {},
   "outputs": [],
   "source": [
    "sns.swarmplot(x=df['L-B'], y=df['COMFORT'])"
   ]
  },
  {
   "cell_type": "markdown",
   "metadata": {},
   "source": [
    "The distribution of comfort is very similar for \"mid\" and \"high\" categories of blood pressure. The \"low\" category only has 3 data points, all lying at the comfort rating of 10. The \"mid\" group has 1 more patient rating comfort below 10 than the \"high\" group, while the \"high\" group has fewer patients rating comfort at discharge at 15. The \"low\" category does not have enough data to draw a conclusive relationship between it and the other 2 categories."
   ]
  },
  {
   "cell_type": "code",
   "execution_count": null,
   "metadata": {},
   "outputs": [],
   "source": [
    "sns.swarmplot(x=df['S-STBL'], y=df['COMFORT'])"
   ]
  },
  {
   "cell_type": "markdown",
   "metadata": {},
   "source": [
    "The distribution of comfort is extremely similar for both categories of surface temperature stability. The majority of patients in both surface temperature categories rated comfort as a 10, with some as a 15 and very few below 10. The \"stable\" group has 1 more comfort rating below 10 than the \"unstable\" group. However, the amount of patients rating comfort as 15 is similar for both the \"stable\" and \"unstable\" categories."
   ]
  },
  {
   "cell_type": "code",
   "execution_count": null,
   "metadata": {},
   "outputs": [],
   "source": [
    "sns.swarmplot(x=df['C-STBL'], y=df['COMFORT'])"
   ]
  },
  {
   "cell_type": "markdown",
   "metadata": {},
   "source": [
    "There is not enough data in the \"unstable\" or \"mod-stable\" categories to draw comparisons between all categories of core temperature stability. The \"stable\" category contains a great majority of the data, while also having a similar amount of patients rating comfort at 10 and 15. In addition, the \"stable\" group has 3 comfort ratings below 10, while the \"unstable\" and \"mod-stable\" groups do not have any."
   ]
  },
  {
   "cell_type": "code",
   "execution_count": null,
   "metadata": {},
   "outputs": [],
   "source": [
    "sns.swarmplot(x=df['B-STBL'], y=df['COMFORT'])"
   ]
  },
  {
   "cell_type": "markdown",
   "metadata": {},
   "source": [
    "The distribution of comfort is fairly similar for all 3 categories of blood pressure stability. The majority of patients in all stability categories rated comfort as a 10, with some as a 15 and very few below 10. Each category has 1 patient rating comfort below 10. The \"mod-stable\" group has less patients rating comfort at 15 than the other 2 groups. Overall, not much difference is seen in comfort level ratings between blood pressure stability groups."
   ]
  },
  {
   "cell_type": "code",
   "execution_count": null,
   "metadata": {},
   "outputs": [],
   "source": [
    "sns.swarmplot(x=df['ADM-DECS'], y=df['COMFORT'])"
   ]
  },
  {
   "cell_type": "markdown",
   "metadata": {},
   "source": [
    "The distribution of comfort is fairly similar for the \"A\" and \"S\" categories. There is only one patient included in the plot that lies in the \"I\" category, which means this was the only patient sent to the Intensive Care Unit. The majority of patients in the plotted categories rated comfort as a 10, with some as a 15 and very few below 10. The \"S\" category has less data in the comfort levels of 10 and 15 compared to category \"A\". However, \"S\" contains 1 more patient with a comfort level below 10."
   ]
  },
  {
   "cell_type": "markdown",
   "metadata": {},
   "source": [
    "# Github Submit"
   ]
  }
 ],
 "metadata": {
  "kernelspec": {
   "display_name": "Python 3",
   "language": "python",
   "name": "python3"
  },
  "language_info": {
   "codemirror_mode": {
    "name": "ipython",
    "version": 3
   },
   "file_extension": ".py",
   "mimetype": "text/x-python",
   "name": "python",
   "nbconvert_exporter": "python",
   "pygments_lexer": "ipython3",
   "version": "3.6.5"
  }
 },
 "nbformat": 4,
 "nbformat_minor": 2
}
